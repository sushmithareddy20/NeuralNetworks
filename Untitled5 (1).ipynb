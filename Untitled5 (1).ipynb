{
 "cells": [
  {
   "cell_type": "code",
   "execution_count": 9,
   "id": "97c079b1-9265-4f10-88b8-3166b2213aad",
   "metadata": {},
   "outputs": [
    {
     "data": {
      "text/plain": [
       "Text(0.5, 1.0, 'First digit in test data ')"
      ]
     },
     "execution_count": 9,
     "metadata": {},
     "output_type": "execute_result"
    },
    {
     "data": {
      "image/png": "[encoded data removed]",
      "text/plain": [
       "<Figure size 640x480 with 2 Axes>"
      ]
     },
     "metadata": {},
     "output_type": "display_data"
    }
   ],
   "source": [
    "# Train data contains digit data and the correct labels\n",
    "# Test data contains just the digit data and no labels \n",
    "import pandas as pd\n",
    "import numpy as np\n",
    "import matplotlib.pyplot as plt\n",
    "\n",
    "mnist_train = pd.read_csv(\"train2.csv\")\n",
    "mnist_test = pd.read_csv(\"test2.csv\")\n",
    "# Let's visualize the image represented by the first rows of the train data and the test data\n",
    "train_data_digit1 = np.asarray(mnist_train.iloc[0:1,1:]).reshape(28,28)\n",
    "test_data_digit1 = np.asarray(mnist_test.iloc[0:1,]).reshape(28,28)\n",
    "plt.subplot(1,2,1)\n",
    "plt.imshow(train_data_digit1,cmap = plt.cm.gray_r)\n",
    "plt.title(\"First digit in train data\")\n",
    "plt.subplot(1,2,2)\n",
    "plt.imshow(test_data_digit1,cmap = plt.cm.gray_r)\n",
    "plt.title(\"First digit in test data \")\n"
   ]
  },
  {
   "cell_type": "code",
   "execution_count": 11,
   "id": "6d5b903b-3192-4ca1-bcb4-40c3f638e738",
   "metadata": {},
   "outputs": [],
   "source": [
    "\"\"\"Let us now assign the label column value to a new variable Y_train \n",
    "and the remaining column values to X_train\"\"\"\n",
    "X_train = mnist_train.iloc[:,1:]\n",
    "Y_train = mnist_train.iloc[:,0:1]\n"
   ]
  },
  {
   "cell_type": "code",
   "execution_count": 17,
   "id": "1bced3c0-953a-4ca2-b63c-8790dc571b13",
   "metadata": {},
   "outputs": [
    {
     "name": "stdout",
     "output_type": "stream",
     "text": [
      "[2]\n"
     ]
    }
   ],
   "source": [
    "from sklearn.neural_network import MLPClassifier\n",
    "# Let us now create a neural network model to learn from train data\n",
    "# We shall build a single hidden layer with 50 nodes. \n",
    "nn_model = MLPClassifier(hidden_layer_sizes=(50))\n",
    "# The fit method initiates the learning process. When its execution completes, the model is learnt\n",
    "nn_model.fit(X_train,mnist_train.iloc[:,0])\n",
    "# Now that we have a model, lets get it to predict the value of the first digit in the test data\n",
    "print(nn_model.predict(mnist_test.iloc[0:1,]))\n"
   ]
  },
  {
   "cell_type": "code",
   "execution_count": 19,
   "id": "7c289b1a-b875-4c93-9b97-14a5419acce4",
   "metadata": {},
   "outputs": [
    {
     "name": "stdout",
     "output_type": "stream",
     "text": [
      "Predicted digit for the first test sample: [2]\n"
     ]
    }
   ],
   "source": [
    "from sklearn.neural_network import MLPClassifier\n",
    "from sklearn.metrics import classification_report\n",
    "\n",
    "# Prepare the feature and label data\n",
    "X_train = mnist_train.iloc[:, 1:]  # Features (pixel values)\n",
    "Y_train = mnist_train.iloc[:, 0]   # Labels (the digit classes)\n",
    "\n",
    "# Create a neural network model with a single hidden layer of 50 nodes\n",
    "nn_model = MLPClassifier(hidden_layer_sizes=(50), random_state=42)\n",
    "\n",
    "# Train the model\n",
    "nn_model.fit(X_train, Y_train)\n",
    "\n",
    "# Predict the value of the first digit in the test data\n",
    "predicted_digit = nn_model.predict(mnist_test.iloc[0:1, :])\n",
    "print(f\"Predicted digit for the first test sample: {predicted_digit}\")\n"
   ]
  },
  {
   "cell_type": "code",
   "execution_count": 21,
   "id": "74ea7407-6e51-433d-b291-12d6ba513ca6",
   "metadata": {},
   "outputs": [
    {
     "name": "stdout",
     "output_type": "stream",
     "text": [
      "              precision    recall  f1-score   support\n",
      "\n",
      "           0       1.00      0.99      0.99      4132\n",
      "           1       1.00      0.99      1.00      4684\n",
      "           2       1.00      0.99      0.99      4177\n",
      "           3       1.00      0.98      0.99      4351\n",
      "           4       0.99      1.00      0.99      4072\n",
      "           5       1.00      0.99      0.99      3795\n",
      "           6       1.00      0.99      1.00      4137\n",
      "           7       1.00      0.99      0.99      4401\n",
      "           8       0.96      1.00      0.98      4063\n",
      "           9       0.99      0.99      0.99      4188\n",
      "\n",
      "    accuracy                           0.99     42000\n",
      "   macro avg       0.99      0.99      0.99     42000\n",
      "weighted avg       0.99      0.99      0.99     42000\n",
      "\n"
     ]
    }
   ],
   "source": [
    "\n",
    "# Generate predictions for the entire training dataset\n",
    "train_predictions = nn_model.predict(X_train)\n",
    "\n",
    "# Generate a classification report based on the training data\n",
    "print(classification_report(Y_train, train_predictions))"
   ]
  },
  {
   "cell_type": "code",
   "execution_count": null,
   "id": "ce360e19-059b-4811-a244-891bd98335a8",
   "metadata": {},
   "outputs": [],
   "source": []
  }
 ],
 "metadata": {
  "kernelspec": {
   "display_name": "Python 3 (ipykernel)",
   "language": "python",
   "name": "python3"
  },
  "language_info": {
   "codemirror_mode": {
    "name": "ipython",
    "version": 3
   },
   "file_extension": ".py",
   "mimetype": "text/x-python",
   "name": "python",
   "nbconvert_exporter": "python",
   "pygments_lexer": "ipython3",
   "version": "3.12.4"
  }
 },
 "nbformat": 4,
 "nbformat_minor": 5
}
